{
 "cells": [
  {
   "cell_type": "markdown",
   "metadata": {},
   "source": [
    "# COMP/XJCO2421 Numerical Computation. Formative Coursework 1"
   ]
  },
  {
   "cell_type": "markdown",
   "metadata": {},
   "source": [
    "## Solution template"
   ]
  },
  {
   "cell_type": "markdown",
   "metadata": {},
   "source": [
    "### Implemenation\n",
    "\n",
    "[*Show how you would implement the method. 50 words*]\n"
   ]
  },
  {
   "cell_type": "markdown",
   "metadata": {},
   "source": [
    "### Results\n",
    "\n",
    "[*Demonstrate results of running the algorithm for all $n$ bewtween $0$ to $50$ inclusive. You should also show to error of the approach for each $n$ in the range. 50 words *]\n"
   ]
  },
  {
   "cell_type": "markdown",
   "metadata": {},
   "source": [
    "### Interpretation\n",
    "\n",
    "[*Comment on the results of the algorithm including commenting on iteration that gives the best results and what happens after the best iteration. 250 words *]"
   ]
  },
  {
   "cell_type": "markdown",
   "metadata": {},
   "source": [
    "### Improved formulation\n",
    "\n",
    "[*In this section, you should give and derive an improved formulation that avoids the problems in the original formualtion. 50 words *]"
   ]
  },
  {
   "cell_type": "markdown",
   "metadata": {},
   "source": [
    "### Improved implementation\n",
    "\n",
    "[*In this section, you should implement your improved formulation. 50 words*]"
   ]
  },
  {
   "cell_type": "markdown",
   "metadata": {},
   "source": [
    "### Improved results\n",
    "\n",
    "[*Demonstrate results of running the improved algorithm for all $n$ bewtween $0$ to $50$ inclusive. You should also show to error of the approach for each $n$ in the range. 50 words*]"
   ]
  },
  {
   "cell_type": "markdown",
   "metadata": {},
   "source": [
    "### Interpretation\n",
    "\n",
    "[*Comment on the results of the improved algorithm including commenting on iteration that gives the best results and what happens after the best iteration. 250 words*]"
   ]
  }
 ],
 "metadata": {
  "kernelspec": {
   "display_name": "Python 3 (ipykernel)",
   "language": "python",
   "name": "python3"
  },
  "language_info": {
   "codemirror_mode": {
    "name": "ipython",
    "version": 3
   },
   "file_extension": ".py",
   "mimetype": "text/x-python",
   "name": "python",
   "nbconvert_exporter": "python",
   "pygments_lexer": "ipython3",
   "version": "3.12.4"
  },
  "title": "COMP/XJCO2421 Numerical Computation Formative assessment 1"
 },
 "nbformat": 4,
 "nbformat_minor": 4
}
