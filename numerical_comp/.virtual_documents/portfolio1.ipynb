


import numpy as np


A = np.array([[4.5,4,-4], [-3.5,-3.5,0]], dtype=np.double)
B = np.array([[0, 3.5, -5], [-1, -2.5, -4.5], [-2.5, -3.5, -3]], dtype=np.double)


print(A @ B)  # matrix product


A = [[3,2],[5,4]]
B = [[3,2],[5,2]]
c = [[0,0],[0,0]]
count = 0
for i in range(0,len(A)):
    for j in range (0,len(A)):
        c[i][j] = 0
        for k in range (0,len(A)):
            count +=1
            c[i][j] = c[i][j] + A[i][k]*B[k][j]
print(count)
print(c)



