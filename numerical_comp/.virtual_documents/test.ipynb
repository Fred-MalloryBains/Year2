import numpy as np

import math
from matplotlib import pyplot as plt



a = []
a.append(1/math.sqrt(3))
new_function(a,a[len(a)-1])


def absolute (num,pos):
    value1 = num * 2 ** pos * 6
    value2 = abs(value1 - math.pi)
    value3 = value2 / math.pi
    


def function (a,num):
    while (len(a) < 27):
        new = (math.sqrt(num **2 + 1 )-1)/num
        a.append(new)
        absolute(new,len(a)-1)
        function(a,a[len(a)-1])


def new_function (a,num):
    while (len(a) < 200):
        new = (num / (math.sqrt(num**2 + 1) + 1))
        a.append(new)
        absolute(new,len(a)-1)
        new_function(a,a[len(a)-1])



