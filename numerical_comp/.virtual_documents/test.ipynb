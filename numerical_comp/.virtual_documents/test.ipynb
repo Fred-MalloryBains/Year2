import numpy as np

import math
import matplotlib.pyplot as plt



a = []
b=[]
b.append(1/math.sqrt(3))
a.append(1/math.sqrt(3))
function(a,a[len(a)-1])
new_function(b,b[len(b)-1])

for i in range (0,len(a)-1):
    a[i] = a[i] * (2 ** i) * 6
    a[i] = abs(a[i] - math.pi)/ math.pi
while len(a) < 50:
    a.append (100)

for i in range (0,len(b)-1):
    b[i] = b[i] * (2 ** i) * 6
    b[i] = abs(b[i] - math.pi)/ math.pi

graph (a,b)


def absolute (num,pos):
    value1 = num * 2 ** pos * 6
    value2 = abs(value1 - math.pi)
    value3 = value2 / math.pi


def function (a, num):
    while (len(a) < 20):
        new = ((math.sqrt(num **2 + 1 )-1)/num)
        a.append(new)
        function(a,a[len(a)-1])
    return a


def new_function (a,num):
    while (len(a) < 50):
        new = (num / (math.sqrt(num**2 + 1) + 1))
        a.append(new)
        new_function(a,a[len(a)-1])
    return a


def get_table (a):
    
    fig, ax = plt.subplots(figsize=(10, 3)) 
    iterations = np.arange(len(a)) 
    cell_text = [[i, value, result:=value * 2 ** i * 6, abs(result-math.pi)/math.pi] for i, value in zip(iterations, a)]  
    

    columns = ("Iteration", "Formula Value", "pi approximation", "absolute error")
    the_table = plt.table(cellText=cell_text,
                          colLabels=columns,
                          cellLoc='center',
                          loc='center')
    
    the_table.auto_set_font_size(False)  
    the_table.set_fontsize(10)           
    the_table.scale(1.5, 1.5)
    


    for key, cell in the_table.get_celld().items():
        if key[0] == 0:  # Header row
            cell.set_fontsize(12)
            cell.set_text_props(weight='bold')  # Bold headers
            cell.set_facecolor('#4f81bd')  # Background color for header
            cell.set_text_props(color='white')

    ax.xaxis.set_visible(False)
    ax.yaxis.set_visible(False)
    ax.set_frame_on(False)
    
    plt.subplots_adjust(left=0.2, right=0.8, top=0.8, bottom=0.2)
    plt.show()


def graph (a,b):
    iterations = np.arange(1, 51)  # Iterations from 1 to 50
    
    
    fig, ax = plt.subplots()
    
    
    ax.plot(iterations, a, label="Formula 1", color='blue', linewidth=2)
    ax.plot(iterations, b, label="Formula 2", color='green', linestyle='--', linewidth=2)
    
    
    ax.set_yscale('log')
    
    
    ax.set_ylim(1e-16, 1)  
    
   
    ax.set_xlabel("Iterations", fontsize=12)
    ax.set_ylabel("Accuracy", fontsize=12)
    
    # Title of the graph
    ax.set_title("Comparison of Formula Accuracy Over Iterations", fontsize=14)
    
    # Add grid for better readability
    ax.grid(True, which="both", ls="--", lw=0.5)
    
    # Add a legend to differentiate between the two formulas
    ax.legend()
    
    # Show the plot
    plt.show()



