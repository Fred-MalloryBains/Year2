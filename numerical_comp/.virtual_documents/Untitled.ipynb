


import numpy as np


A = np.array([[4.5,4,-4], [-3.5,-3.5,0]], dtype=np.double)
B = np.array([[0, 3.5, -5], [-1, -2.5, -4.5], [-2.5, -3.5, -3]], dtype=np.double)


print(A @ B)  # matrix product



