{
 "cells": [
  {
   "cell_type": "code",
   "execution_count": 7,
   "id": "54f27a82-6abf-407c-8eea-ca3f00801db2",
   "metadata": {},
   "outputs": [],
   "source": [
    "import numpy as np\n",
    "\n",
    "import math\n",
    "from matplotlib import pyplot\n"
   ]
  },
  {
   "cell_type": "code",
   "execution_count": 13,
   "id": "9fe583ae-aab2-40f3-b6d9-99f8b90dedca",
   "metadata": {
    "scrolled": true
   },
   "outputs": [
    {
     "ename": "IndexError",
     "evalue": "list index out of range",
     "output_type": "error",
     "traceback": [
      "\u001b[0;31m---------------------------------------------------------------------------\u001b[0m",
      "\u001b[0;31mIndexError\u001b[0m                                Traceback (most recent call last)",
      "Cell \u001b[0;32mIn[13], line 2\u001b[0m\n\u001b[1;32m      1\u001b[0m a \u001b[38;5;241m=\u001b[39m []\n\u001b[0;32m----> 2\u001b[0m a[\u001b[38;5;241m0\u001b[39m]\u001b[38;5;241m.\u001b[39mappend(\u001b[38;5;241m1\u001b[39m\u001b[38;5;241m/\u001b[39mmath\u001b[38;5;241m.\u001b[39msqrt(\u001b[38;5;241m3\u001b[39m))\n\u001b[1;32m      3\u001b[0m function(a,\u001b[38;5;28mlen\u001b[39m(a)\u001b[38;5;241m-\u001b[39m\u001b[38;5;241m1\u001b[39m)\n\u001b[1;32m      4\u001b[0m \u001b[38;5;28mprint\u001b[39m (a)\n",
      "\u001b[0;31mIndexError\u001b[0m: list index out of range"
     ]
    }
   ],
   "source": [
    "a = []\n",
    "a[0].append(1/math.sqrt(3))\n",
    "function(a,len(a)-1)\n",
    "print (a)"
   ]
  },
  {
   "cell_type": "code",
   "execution_count": 30,
   "id": "3af2ed2b-58b9-4a05-8fe1-56cf9aeb6a4a",
   "metadata": {},
   "outputs": [],
   "source": [
    "def absolute (num,pos):\n",
    "    value1 = num * 2 ** pos * 6\n",
    "    value2 = abs(value1 - math.pi)\n",
    "    value3 = value2 / math.pi"
   ]
  },
  {
   "cell_type": "code",
   "execution_count": 12,
   "id": "88ecce79-4d7d-48a5-b49c-2741490ab9d7",
   "metadata": {},
   "outputs": [],
   "source": [
    "def function (a,num):\n",
    "    while (len(a) < 27):\n",
    "        new = (math.sqrt(num **2 + 1 )-1)/num\n",
    "        a.append(new)\n",
    "        absolute(new,len(a)-1)\n",
    "        function(a,a[len(a)-1])"
   ]
  },
  {
   "cell_type": "code",
   "execution_count": 40,
   "id": "226d320a-290c-4aca-8e6f-bd71e1ce5f6d",
   "metadata": {},
   "outputs": [],
   "source": [
    "def new_function (a,num):\n",
    "    while (len(a) < 200):\n",
    "        new = (num / (math.sqrt(num**2 + 1) + 1))\n",
    "        a.append(new)\n",
    "        absolute(new,len(a)-1)\n",
    "        new_function(a,a[len(a)-1])"
   ]
  },
  {
   "cell_type": "code",
   "execution_count": null,
   "id": "7ba16f3a-994b-4374-b895-79db969026b2",
   "metadata": {},
   "outputs": [],
   "source": []
  },
  {
   "cell_type": "code",
   "execution_count": null,
   "id": "bcbe3cf7-094a-4579-9243-dfa5450fbcbf",
   "metadata": {},
   "outputs": [],
   "source": []
  }
 ],
 "metadata": {
  "kernelspec": {
   "display_name": "Python 3 (ipykernel)",
   "language": "python",
   "name": "python3"
  },
  "language_info": {
   "codemirror_mode": {
    "name": "ipython",
    "version": 3
   },
   "file_extension": ".py",
   "mimetype": "text/x-python",
   "name": "python",
   "nbconvert_exporter": "python",
   "pygments_lexer": "ipython3",
   "version": "3.12.4"
  }
 },
 "nbformat": 4,
 "nbformat_minor": 5
}
