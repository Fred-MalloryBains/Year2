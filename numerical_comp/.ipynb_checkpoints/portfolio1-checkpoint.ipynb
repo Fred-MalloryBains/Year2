{
 "cells": [
  {
   "cell_type": "code",
   "execution_count": 1,
   "id": "7cc80331-31be-4ee5-9446-7bcf49184f51",
   "metadata": {},
   "outputs": [
    {
     "name": "stdout",
     "output_type": "stream",
     "text": [
      "hello world\n"
     ]
    }
   ],
   "source": []
  },
  {
   "cell_type": "code",
   "execution_count": 2,
   "id": "f475c4f7-073c-4391-be84-34913a08d2fb",
   "metadata": {},
   "outputs": [],
   "source": [
    "import numpy as np"
   ]
  },
  {
   "cell_type": "code",
   "execution_count": 3,
   "id": "8b6d1042-ec6b-4f45-95fd-f08df6d2e91d",
   "metadata": {},
   "outputs": [
    {
     "name": "stdout",
     "output_type": "stream",
     "text": [
      "[[  6.    19.75 -28.5 ]\n",
      " [  3.5   -3.5   33.25]]\n"
     ]
    }
   ],
   "source": [
    "A = np.array([[4.5,4,-4], [-3.5,-3.5,0]], dtype=np.double)\n",
    "B = np.array([[0, 3.5, -5], [-1, -2.5, -4.5], [-2.5, -3.5, -3]], dtype=np.double)\n",
    "\n",
    "\n",
    "print(A @ B)  # matrix product"
   ]
  },
  {
   "cell_type": "code",
   "execution_count": 2,
   "id": "989eba0d-33fd-4a7d-b768-69110b5b2a73",
   "metadata": {},
   "outputs": [
    {
     "name": "stderr",
     "output_type": "stream",
     "text": [
      "<>:3: SyntaxWarning: list indices must be integers or slices, not tuple; perhaps you missed a comma?\n",
      "<>:3: SyntaxWarning: list indices must be integers or slices, not tuple; perhaps you missed a comma?\n"
     ]
    },
    {
     "ename": "NameError",
     "evalue": "name 'np' is not defined",
     "output_type": "error",
     "traceback": [
      "\u001b[0;31m---------------------------------------------------------------------------\u001b[0m",
      "\u001b[0;31mNameError\u001b[0m                                 Traceback (most recent call last)",
      "Cell \u001b[0;32mIn[2], line 1\u001b[0m\n\u001b[0;32m----> 1\u001b[0m A \u001b[38;5;241m=\u001b[39m np\u001b[38;5;241m.\u001b[39marray([[\u001b[38;5;241m4.5\u001b[39m,\u001b[38;5;241m4\u001b[39m,], [\u001b[38;5;241m-\u001b[39m\u001b[38;5;241m3.5\u001b[39m,\u001b[38;5;241m-\u001b[39m\u001b[38;5;241m3.5\u001b[39m]], dtype\u001b[38;5;241m=\u001b[39mnp\u001b[38;5;241m.\u001b[39mdouble)\n\u001b[1;32m      2\u001b[0m B \u001b[38;5;241m=\u001b[39m np\u001b[38;5;241m.\u001b[39marray([[\u001b[38;5;241m4.5\u001b[39m,\u001b[38;5;241m4\u001b[39m,], [\u001b[38;5;241m-\u001b[39m\u001b[38;5;241m3.5\u001b[39m,\u001b[38;5;241m6\u001b[39m]], dtype\u001b[38;5;241m=\u001b[39mnp\u001b[38;5;241m.\u001b[39mdouble)\n\u001b[1;32m      3\u001b[0m C \u001b[38;5;241m=\u001b[39m [[\u001b[38;5;241m0\u001b[39m,\u001b[38;5;241m0\u001b[39m][\u001b[38;5;241m0\u001b[39m,\u001b[38;5;241m0\u001b[39m]]\n",
      "\u001b[0;31mNameError\u001b[0m: name 'np' is not defined"
     ]
    }
   ],
   "source": [
    "A = [[3,2],[5,4]]\n",
    "B = [[3,2],[5,2]]\n",
    "C = [[0,0],[0,0]]\n",
    "count = 0\n",
    "for i in range(0,1):\n",
    "    for j in range (0,1):\n",
    "        c[i,j] = 0\n",
    "        for k in range (0,1):\n",
    "            count +=1\n",
    "            c[i,j] = c[i,j] + A[i,k]*B[k,j]\n",
    "print(count)"
   ]
  },
  {
   "cell_type": "code",
   "execution_count": null,
   "id": "6796f809-ba47-4305-b530-63fc504a7bcb",
   "metadata": {},
   "outputs": [],
   "source": []
  }
 ],
 "metadata": {
  "kernelspec": {
   "display_name": "Python 3 (ipykernel)",
   "language": "python",
   "name": "python3"
  },
  "language_info": {
   "codemirror_mode": {
    "name": "ipython",
    "version": 3
   },
   "file_extension": ".py",
   "mimetype": "text/x-python",
   "name": "python",
   "nbconvert_exporter": "python",
   "pygments_lexer": "ipython3",
   "version": "3.12.4"
  }
 },
 "nbformat": 4,
 "nbformat_minor": 5
}
