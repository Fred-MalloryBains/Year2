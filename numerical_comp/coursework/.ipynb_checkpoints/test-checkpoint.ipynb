{
 "cells": [
  {
   "cell_type": "code",
   "execution_count": 2,
   "id": "62be1d2d-1ec3-40ba-91fd-621a257afa8e",
   "metadata": {},
   "outputs": [],
   "source": [
    "# put all python import statements here\n",
    "from solvers import solver\n",
    "import numpy as np \n",
    "\n"
   ]
  },
  {
   "cell_type": "code",
   "execution_count": 19,
   "id": "b18e0ca8-207e-4208-b31b-1c5494548b60",
   "metadata": {
    "scrolled": true
   },
   "outputs": [
    {
     "name": "stdout",
     "output_type": "stream",
     "text": [
      "Heun <function secant at 0x15e0a6a20> <function bisection at 0x15e0a6840>\n",
      "Van der Houwen <function secant at 0x15e0a6a20> <function bisection at 0x15e0a6840>\n",
      "SSPRK3 <function secant at 0x15e0a6a20> <function bisection at 0x15e0a6840>\n"
     ]
    }
   ],
   "source": [
    "## bisection method \n",
    "def rhs(t, y):\n",
    "    v = y[1]\n",
    "    dy_dt = v \n",
    "    dv_dt = (k * v**2 - g ) / m \n",
    "    return np.array([dy_dt, dv_dt])\n",
    "    \n",
    "\n",
    "\n",
    "def bisection (x1, x2, total, method):\n",
    "    if total > 100: \n",
    "        print (\"max recursion depth\")\n",
    "        return -1\n",
    "    total +=1 \n",
    "    x3 = (x1 + x2) / 2 \n",
    "    t,y = solver (rhs,np.array([0,x3]), t0, dt, T, method)\n",
    "    solution = [entry[0] for entry in y][len(y)-1]\n",
    "    if abs(solution - 10) < 1.0e-6: \n",
    "        return x3\n",
    "    elif solution > 10:\n",
    "        return bisection (x1, x3, total,method)\n",
    "    else:\n",
    "        return bisection (x3, x2, total, method)\n",
    "        \n",
    "def secant (x1,x2, method):\n",
    "    total = 0 \n",
    "    while total < 100: \n",
    "        total += 1 \n",
    "        \n",
    "        t1, y1 = solver(rhs, np.array([0, x1]), t0, dt, T, method)\n",
    "        t2, y2 = solver(rhs, np.array([0, x2]), t0, dt, T, method)\n",
    "\n",
    "        f1 = [entry[0] for entry in y1][len(y1)-1] - 10 \n",
    "        f2 = [entry[0] for entry in y2][len(y2)-1] - 10 \n",
    "        \n",
    "        if abs (f1)  < 1.0e-6: \n",
    "            return x1 \n",
    "        elif abs(f2) < 1.0e-6:\n",
    "            return x2\n",
    "\n",
    "        if (f2 - f1) == 0:\n",
    "            return -1 \n",
    "        \n",
    "        x_new = x2 - (f2 * (x2 - x1) / (f2 - f1))\n",
    "        x1, x2 = x2, x_new\n",
    "\n",
    "\n",
    "m = 1.3\n",
    "g = 9.81\n",
    "k = -0.05\n",
    "\n",
    "t0 = 0 \n",
    "dt = 0.001 \n",
    "T = 1.5\n",
    "\n",
    "methods = [\"Heun\", \"Van der Houwen\", \"SSPRK3\"]\n",
    "for i in methods:\n",
    "    s_value = secant (0,20, i)\n",
    "    b_value = bisection (0,20,0,i)\n",
    "    print (i, secant , bisection)\n"
   ]
  },
  {
   "cell_type": "code",
   "execution_count": 14,
   "id": "1542b611-09a7-4d67-8c02-3fb199627574",
   "metadata": {},
   "outputs": [
    {
     "name": "stdout",
     "output_type": "stream",
     "text": [
      "x1, 0\n",
      "x2 20\n",
      "f1 -19.614884005733483\n",
      "f2 4.148312284185483\n",
      "x1, 20\n",
      "x2 16.508624316716755\n",
      "f1 4.148312284185483\n",
      "f2 1.2763199988856648\n",
      "x1, 16.508624316716755\n",
      "x2 14.95704890650206\n",
      "f1 1.2763199988856648\n",
      "f2 -0.10944293842243269\n",
      "x1, 14.95704890650206\n",
      "x2 15.079587161427357\n",
      "f1 -0.10944293842243269\n",
      "f2 0.002726780229469483\n",
      "x1, 15.079587161427357\n",
      "x2 15.076608328147755\n",
      "f1 0.002726780229469483\n",
      "f2 5.7311343066857035e-06\n",
      "x1, 15.076608328147755\n",
      "x2 15.076602054062647\n",
      "f1 5.7311343066857035e-06\n",
      "f2 -3.005826698654346e-10\n",
      "15.076602054062647\n"
     ]
    }
   ],
   "source": [
    "\n",
    "\n",
    "## secant method \n",
    "\n",
    "def rhs(t, y):\n",
    "    v = y[1]\n",
    "    dy_dt = v \n",
    "    dv_dt = (-k * v**2 - g ) / m \n",
    "    return np.array([dy_dt, dv_dt])\n",
    "    \n",
    "m = 1.3\n",
    "g = 9.81\n",
    "k = 0.05\n",
    "\n",
    "t0 = 0 \n",
    "dt = 0.001 \n",
    "T = 1.5\n",
    "\n",
    "\n",
    "        \n",
    "    \n",
    "\n",
    "print(secant (0,20))\n",
    "\n"
   ]
  },
  {
   "cell_type": "code",
   "execution_count": null,
   "id": "83a2905c-6f3a-4f01-8d16-ea8117e8b4eb",
   "metadata": {},
   "outputs": [],
   "source": []
  }
 ],
 "metadata": {
  "kernelspec": {
   "display_name": "Python 3 (ipykernel)",
   "language": "python",
   "name": "python3"
  },
  "language_info": {
   "codemirror_mode": {
    "name": "ipython",
    "version": 3
   },
   "file_extension": ".py",
   "mimetype": "text/x-python",
   "name": "python",
   "nbconvert_exporter": "python",
   "pygments_lexer": "ipython3",
   "version": "3.12.7"
  }
 },
 "nbformat": 4,
 "nbformat_minor": 5
}
