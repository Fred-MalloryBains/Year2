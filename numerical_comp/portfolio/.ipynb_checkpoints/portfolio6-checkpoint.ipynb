{
 "cells": [
  {
   "cell_type": "code",
   "execution_count": 2,
   "id": "28f5225a-3113-43d5-acae-53afcd993ac4",
   "metadata": {},
   "outputs": [],
   "source": [
    "import numpy as np"
   ]
  },
  {
   "cell_type": "code",
   "execution_count": 15,
   "id": "9b6251fb-485e-4693-ab3e-afee65da3716",
   "metadata": {},
   "outputs": [
    {
     "name": "stdout",
     "output_type": "stream",
     "text": [
      "17\n",
      "2\n",
      "20.5 1.5 1 2\n"
     ]
    },
    {
     "ename": "ZeroDivisionError",
     "evalue": "float division by zero",
     "output_type": "error",
     "traceback": [
      "\u001b[0;31m---------------------------------------------------------------------------\u001b[0m",
      "\u001b[0;31mZeroDivisionError\u001b[0m                         Traceback (most recent call last)",
      "Cell \u001b[0;32mIn[15], line 19\u001b[0m\n\u001b[1;32m     15\u001b[0m         \u001b[38;5;28;01mreturn\u001b[39;00m Euler_method(d_new, change, n\u001b[38;5;241m-\u001b[39m\u001b[38;5;241m1\u001b[39m, g)\n\u001b[1;32m     16\u001b[0m     \u001b[38;5;66;03m## find n steps and t0 / t\u001b[39;00m\n\u001b[1;32m     17\u001b[0m     \n\u001b[1;32m     18\u001b[0m     \u001b[38;5;66;03m## find \u001b[39;00m\n\u001b[0;32m---> 19\u001b[0m \u001b[38;5;28mprint\u001b[39m(\u001b[43mEulers_method\u001b[49m\u001b[43m(\u001b[49m\u001b[38;5;241;43m-\u001b[39;49m\u001b[38;5;241;43m5\u001b[39;49m\u001b[43m,\u001b[49m\u001b[38;5;241;43m1\u001b[39;49m\u001b[43m,\u001b[49m\u001b[38;5;241;43m2\u001b[39;49m\u001b[43m,\u001b[49m\u001b[38;5;241;43m2\u001b[39;49m\u001b[43m)\u001b[49m)\n",
      "Cell \u001b[0;32mIn[15], line 15\u001b[0m, in \u001b[0;36mEulers_method\u001b[0;34m(d, t, n, g)\u001b[0m\n\u001b[1;32m     13\u001b[0m \u001b[38;5;28;01melse\u001b[39;00m:\n\u001b[1;32m     14\u001b[0m     \u001b[38;5;28mprint\u001b[39m(d_new, change, n\u001b[38;5;241m-\u001b[39m\u001b[38;5;241m1\u001b[39m, g)\n\u001b[0;32m---> 15\u001b[0m     \u001b[38;5;28;01mreturn\u001b[39;00m \u001b[43mEuler_method\u001b[49m\u001b[43m(\u001b[49m\u001b[43md_new\u001b[49m\u001b[43m,\u001b[49m\u001b[43m \u001b[49m\u001b[43mchange\u001b[49m\u001b[43m,\u001b[49m\u001b[43m \u001b[49m\u001b[43mn\u001b[49m\u001b[38;5;241;43m-\u001b[39;49m\u001b[38;5;241;43m1\u001b[39;49m\u001b[43m,\u001b[49m\u001b[43m \u001b[49m\u001b[43mg\u001b[49m\u001b[43m)\u001b[49m\n",
      "Cell \u001b[0;32mIn[3], line 12\u001b[0m, in \u001b[0;36mEuler_method\u001b[0;34m(d, t, n, g)\u001b[0m\n\u001b[1;32m     10\u001b[0m     \u001b[38;5;28;01mreturn\u001b[39;00m d_new\n\u001b[1;32m     11\u001b[0m \u001b[38;5;28;01melse\u001b[39;00m:\n\u001b[0;32m---> 12\u001b[0m     \u001b[38;5;28;01mreturn\u001b[39;00m \u001b[43mEuler_method\u001b[49m\u001b[43m(\u001b[49m\u001b[43md_new\u001b[49m\u001b[43m,\u001b[49m\u001b[43m \u001b[49m\u001b[43mchange\u001b[49m\u001b[43m,\u001b[49m\u001b[43m \u001b[49m\u001b[43mn\u001b[49m\u001b[38;5;241;43m-\u001b[39;49m\u001b[38;5;241;43m1\u001b[39;49m\u001b[43m,\u001b[49m\u001b[43m \u001b[49m\u001b[43mg\u001b[49m\u001b[43m)\u001b[49m\n",
      "Cell \u001b[0;32mIn[3], line 7\u001b[0m, in \u001b[0;36mEuler_method\u001b[0;34m(d, t, n, g)\u001b[0m\n\u001b[1;32m      1\u001b[0m \u001b[38;5;28;01mdef\u001b[39;00m \u001b[38;5;21mEuler_method\u001b[39m(d, t, n, g):\n\u001b[1;32m      2\u001b[0m     \u001b[38;5;66;03m## need to know previous points so t0 and d[0]\u001b[39;00m\n\u001b[1;32m      3\u001b[0m     \n\u001b[1;32m      4\u001b[0m     \u001b[38;5;66;03m## find dt of d[0]\u001b[39;00m\n\u001b[1;32m      6\u001b[0m     dx \u001b[38;5;241m=\u001b[39m \u001b[38;5;241m4\u001b[39m\u001b[38;5;241m*\u001b[39mt\u001b[38;5;241m*\u001b[39m\u001b[38;5;241m*\u001b[39m\u001b[38;5;241m4\u001b[39m \u001b[38;5;241m-\u001b[39m\u001b[38;5;241m2\u001b[39m\u001b[38;5;241m*\u001b[39mt\u001b[38;5;241m*\u001b[39m\u001b[38;5;241m*\u001b[39m\u001b[38;5;241m2\u001b[39m \u001b[38;5;241m-\u001b[39m\u001b[38;5;241m3\u001b[39m\u001b[38;5;241m*\u001b[39md \n\u001b[0;32m----> 7\u001b[0m     change \u001b[38;5;241m=\u001b[39m (\u001b[43m(\u001b[49m\u001b[43mg\u001b[49m\u001b[43m \u001b[49m\u001b[38;5;241;43m-\u001b[39;49m\u001b[43m \u001b[49m\u001b[43mt\u001b[49m\u001b[43m)\u001b[49m\u001b[43m \u001b[49m\u001b[38;5;241;43m/\u001b[39;49m\u001b[43m \u001b[49m\u001b[43mn\u001b[49m) \u001b[38;5;241m+\u001b[39m t\n\u001b[1;32m      8\u001b[0m     d_new \u001b[38;5;241m=\u001b[39m dx \u001b[38;5;241m*\u001b[39m change \u001b[38;5;241m+\u001b[39m d\n\u001b[1;32m      9\u001b[0m     \u001b[38;5;28;01mif\u001b[39;00m change \u001b[38;5;241m==\u001b[39m n:\n",
      "\u001b[0;31mZeroDivisionError\u001b[0m: float division by zero"
     ]
    }
   ],
   "source": [
    "def Eulers_method(d, t, n, g):\n",
    "    ## need to know previous points so t0 and d[0]\n",
    "    \n",
    "    ## find dt of d[0]\n",
    "    \n",
    "    dx = 4*t**4 -2*t**2 -3*d \n",
    "    change = ((g - t) / n) + t\n",
    "    print (dx)\n",
    "    d_new = dx * change + d\n",
    "    if (n-1) == 0:\n",
    "        return d_new\n",
    "    else:\n",
    "        print(d_new, change, n-1, g)\n",
    "        return Euler_method(d_new, change, n-1, g)\n",
    "    ## find n steps and t0 / t\n",
    "    \n",
    "    ## find \n",
    "print(Eulers_method(-5,1,2,2))"
   ]
  },
  {
   "cell_type": "code",
   "execution_count": null,
   "id": "2edd937c-0e54-43a6-847b-c596da028f7e",
   "metadata": {},
   "outputs": [],
   "source": []
  }
 ],
 "metadata": {
  "kernelspec": {
   "display_name": "Python 3 (ipykernel)",
   "language": "python",
   "name": "python3"
  },
  "language_info": {
   "codemirror_mode": {
    "name": "ipython",
    "version": 3
   },
   "file_extension": ".py",
   "mimetype": "text/x-python",
   "name": "python",
   "nbconvert_exporter": "python",
   "pygments_lexer": "ipython3",
   "version": "3.12.7"
  }
 },
 "nbformat": 4,
 "nbformat_minor": 5
}
