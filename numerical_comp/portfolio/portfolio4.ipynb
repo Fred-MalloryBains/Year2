{
 "cells": [
  {
   "cell_type": "code",
   "execution_count": 1,
   "id": "226257c6-79f6-422c-a378-85a87ab273ae",
   "metadata": {},
   "outputs": [],
   "source": [
    "import numpy as np "
   ]
  },
  {
   "cell_type": "code",
   "execution_count": 7,
   "id": "50385881-47d0-41d0-98f2-9cd3ee794dd1",
   "metadata": {},
   "outputs": [
    {
     "name": "stdout",
     "output_type": "stream",
     "text": [
      "-8.0\n",
      "L: \n",
      " [[ 1.  0.  0.]\n",
      " [-4.  1.  0.]\n",
      " [-3.  1.  1.]]\n",
      "U: \n",
      " [[-1.  2.  1.]\n",
      " [ 0.  8.  6.]\n",
      " [ 0.  0. -8.]]\n",
      "[[-1.  2.  1.]\n",
      " [ 4.  0.  2.]\n",
      " [ 3.  2. -5.]]\n"
     ]
    }
   ],
   "source": [
    "A = np.array([[-1,2,1],[4,0,2],[3,2,-5]], dtype = float)\n",
    "\n",
    "a = A[0][0]\n",
    "b = A[0][1]\n",
    "c = A[0][2]\n",
    "x = A[1][0] / a\n",
    "d = A[1][1] - (x * b)\n",
    "e = A[1][2] - (x * c)\n",
    "y = A[2][0] / a\n",
    "z = (A[2][1] - (y * b)) / d\n",
    "f = A[2][2] - (y * c + z * e)\n",
    "\n",
    "print (f) # u33\n",
    "L = np.array([[1,0,0],[x,1,0],[y,z,1]], dtype = float)\n",
    "U = np.array([[a,b,c],[0,d,e],[0,0,f]], dtype = float)\n",
    "print (\"L: \\n\", L)\n",
    "print (\"U: \\n\",U)\n",
    "print (L @ U)\n"
   ]
  },
  {
   "cell_type": "code",
   "execution_count": null,
   "id": "6fffc61e-dcc1-404e-9e37-e5b16e8583fb",
   "metadata": {},
   "outputs": [],
   "source": []
  }
 ],
 "metadata": {
  "kernelspec": {
   "display_name": "Python 3 (ipykernel)",
   "language": "python",
   "name": "python3"
  },
  "language_info": {
   "codemirror_mode": {
    "name": "ipython",
    "version": 3
   },
   "file_extension": ".py",
   "mimetype": "text/x-python",
   "name": "python",
   "nbconvert_exporter": "python",
   "pygments_lexer": "ipython3",
   "version": "3.12.4"
  }
 },
 "nbformat": 4,
 "nbformat_minor": 5
}
