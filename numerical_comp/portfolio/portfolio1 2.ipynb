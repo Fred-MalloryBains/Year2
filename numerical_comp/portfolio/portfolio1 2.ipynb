{
 "cells": [
  {
   "cell_type": "code",
   "execution_count": 1,
   "id": "7cc80331-31be-4ee5-9446-7bcf49184f51",
   "metadata": {},
   "outputs": [
    {
     "name": "stdout",
     "output_type": "stream",
     "text": [
      "hello world\n"
     ]
    }
   ],
   "source": []
  },
  {
   "cell_type": "code",
   "execution_count": 2,
   "id": "f475c4f7-073c-4391-be84-34913a08d2fb",
   "metadata": {},
   "outputs": [],
   "source": [
    "import numpy as np"
   ]
  },
  {
   "cell_type": "code",
   "execution_count": 3,
   "id": "8b6d1042-ec6b-4f45-95fd-f08df6d2e91d",
   "metadata": {},
   "outputs": [
    {
     "name": "stdout",
     "output_type": "stream",
     "text": [
      "[[  6.    19.75 -28.5 ]\n",
      " [  3.5   -3.5   33.25]]\n"
     ]
    }
   ],
   "source": [
    "A = np.array([[4.5,4,-4], [-3.5,-3.5,0]], dtype=np.double)\n",
    "B = np.array([[0, 3.5, -5], [-1, -2.5, -4.5], [-2.5, -3.5, -3]], dtype=np.double)\n",
    "\n",
    "\n",
    "print(A @ B)  # matrix product"
   ]
  },
  {
   "cell_type": "code",
   "execution_count": 7,
   "id": "989eba0d-33fd-4a7d-b768-69110b5b2a73",
   "metadata": {},
   "outputs": [
    {
     "name": "stdout",
     "output_type": "stream",
     "text": [
      "8\n",
      "[[19, 10], [35, 18]]\n"
     ]
    }
   ],
   "source": [
    "A = [[3,2],[5,4]]\n",
    "B = [[3,2],[5,2]]\n",
    "c = [[0,0],[0,0]]\n",
    "count = 0\n",
    "for i in range(0,len(A)):\n",
    "    for j in range (0,len(A)):\n",
    "        c[i][j] = 0\n",
    "        for k in range (0,len(A)):\n",
    "            count +=1\n",
    "            c[i][j] = c[i][j] + A[i][k]*B[k][j]\n",
    "print(count)\n",
    "print(c)"
   ]
  },
  {
   "cell_type": "code",
   "execution_count": null,
   "id": "6796f809-ba47-4305-b530-63fc504a7bcb",
   "metadata": {},
   "outputs": [],
   "source": []
  }
 ],
 "metadata": {
  "kernelspec": {
   "display_name": "Python 3 (ipykernel)",
   "language": "python",
   "name": "python3"
  },
  "language_info": {
   "codemirror_mode": {
    "name": "ipython",
    "version": 3
   },
   "file_extension": ".py",
   "mimetype": "text/x-python",
   "name": "python",
   "nbconvert_exporter": "python",
   "pygments_lexer": "ipython3",
   "version": "3.12.4"
  }
 },
 "nbformat": 4,
 "nbformat_minor": 5
}
