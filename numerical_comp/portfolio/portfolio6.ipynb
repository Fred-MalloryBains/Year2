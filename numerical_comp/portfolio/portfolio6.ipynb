{
 "cells": [
  {
   "cell_type": "code",
   "execution_count": 1,
   "id": "28f5225a-3113-43d5-acae-53afcd993ac4",
   "metadata": {},
   "outputs": [
    {
     "ename": "ModuleNotFoundError",
     "evalue": "No module named 'numpy'",
     "output_type": "error",
     "traceback": [
      "\u001b[0;31m---------------------------------------------------------------------------\u001b[0m",
      "\u001b[0;31mModuleNotFoundError\u001b[0m                       Traceback (most recent call last)",
      "Cell \u001b[0;32mIn[1], line 1\u001b[0m\n\u001b[0;32m----> 1\u001b[0m \u001b[38;5;28;01mimport\u001b[39;00m \u001b[38;5;21;01mnumpy\u001b[39;00m \u001b[38;5;28;01mas\u001b[39;00m \u001b[38;5;21;01mnp\u001b[39;00m\n",
      "\u001b[0;31mModuleNotFoundError\u001b[0m: No module named 'numpy'"
     ]
    }
   ],
   "source": [
    "import numpy as np"
   ]
  },
  {
   "cell_type": "code",
   "execution_count": 27,
   "id": "9b6251fb-485e-4693-ab3e-afee65da3716",
   "metadata": {},
   "outputs": [
    {
     "name": "stdout",
     "output_type": "stream",
     "text": [
      "t 1\n",
      "n 2\n",
      "dx 17\n",
      "3.5 1.5 1 2\n",
      "t 1.5\n",
      "n 1\n",
      "dx 5.25\n",
      "final 6.125\n",
      "5.25\n",
      "6.125\n"
     ]
    }
   ],
   "source": [
    "def Eulers_method(d, t, n, g):\n",
    "    ## need to know previous points so t0 and d[0]\n",
    "    \n",
    "    ## find dt of d[0]\n",
    "    \n",
    "    dx = 4*t**4 -2*t**2 -3*d \n",
    "    change = ((g - t) / n) \n",
    "    d_new = dx * change + d\n",
    "    if n-1 == 0 :\n",
    "        return d_new\n",
    "    else:\n",
    "        return Eulers_method(d_new, change + t, n-1, g)\n",
    "    ## find n steps and t0 / t\n",
    "    \n",
    "    ## find \n",
    "print(\"final\",Eulers_method(-5,1,2,2))\n"
   ]
  },
  {
   "cell_type": "code",
   "execution_count": null,
   "id": "2edd937c-0e54-43a6-847b-c596da028f7e",
   "metadata": {},
   "outputs": [],
   "source": []
  }
 ],
 "metadata": {
  "kernelspec": {
   "display_name": "Python 3 (ipykernel)",
   "language": "python",
   "name": "python3"
  },
  "language_info": {
   "codemirror_mode": {
    "name": "ipython",
    "version": 3
   },
   "file_extension": ".py",
   "mimetype": "text/x-python",
   "name": "python",
   "nbconvert_exporter": "python",
   "pygments_lexer": "ipython3",
   "version": "3.12.7"
  }
 },
 "nbformat": 4,
 "nbformat_minor": 5
}
