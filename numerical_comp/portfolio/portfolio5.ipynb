{
 "cells": [
  {
   "cell_type": "code",
   "execution_count": 4,
   "id": "f77c135a-54d9-4334-98d8-f00f4e5e4a5b",
   "metadata": {},
   "outputs": [
    {
     "name": "stdout",
     "output_type": "stream",
     "text": [
      "-0.5\n"
     ]
    }
   ],
   "source": [
    "import numpy as np \n",
    "\n",
    "#A = np.array([[1,-2,4],[-1,-2,-1],[-1,-5,1]], dtype = float)\n",
    "#X = np.array([[x],[y],[z]])\n",
    "#B = np.array([[-3],[4],[5]])\n",
    "\n",
    "x = 0 \n",
    "y = 1 \n",
    "z = 1 \n",
    "\n",
    "x = -3 + 2*y -4*z\n",
    "y = (4 + x + z) / -2\n",
    "z = 5 + x + 5*y\n",
    "\n",
    "x = -3 + 2*y -4*z\n",
    "y = (4 + x + z) / -2\n",
    "z = 5 + x + 5*y\n",
    "\n",
    "print (z)\n",
    "\n",
    " \n"
   ]
  },
  {
   "cell_type": "code",
   "execution_count": null,
   "id": "0824dfd6-d7f1-44fd-96f0-ee1a0436f02f",
   "metadata": {},
   "outputs": [],
   "source": []
  },
  {
   "cell_type": "code",
   "execution_count": null,
   "id": "4db6f81b-097b-4e8d-b799-15429ea8aeed",
   "metadata": {},
   "outputs": [],
   "source": []
  }
 ],
 "metadata": {
  "kernelspec": {
   "display_name": "Python 3 (ipykernel)",
   "language": "python",
   "name": "python3"
  },
  "language_info": {
   "codemirror_mode": {
    "name": "ipython",
    "version": 3
   },
   "file_extension": ".py",
   "mimetype": "text/x-python",
   "name": "python",
   "nbconvert_exporter": "python",
   "pygments_lexer": "ipython3",
   "version": "3.12.7"
  }
 },
 "nbformat": 4,
 "nbformat_minor": 5
}
