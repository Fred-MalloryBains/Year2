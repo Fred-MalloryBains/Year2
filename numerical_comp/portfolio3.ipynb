{
 "cells": [
  {
   "cell_type": "code",
   "execution_count": 18,
   "id": "9cb4c3c6-7331-4d6a-a4c1-0739145ac84f",
   "metadata": {},
   "outputs": [
    {
     "name": "stdout",
     "output_type": "stream",
     "text": [
      "-2.5\n"
     ]
    }
   ],
   "source": [
    "import numpy as np\n",
    "\n",
    "A = np.array ([[2,-4,2,3],[-5,1,4,-3],[-5,1,3,0]], dtype = float)\n",
    "A[1] = A[1] + 5/2*A[0]\n",
    "A[2] = A[2] + 5/2*A[0]\n",
    "A[2] = A[2] - A[1]\n",
    "R = A[:,-1]\n",
    "A = A[:,:-1]\n",
    "\n",
    "z = R[2] / A [2][2]\n",
    "y = (R[1] - A[1][2] * z) / A[1][1]\n",
    "x = (R[0] - A[0][1] * y - A[0][2] * z) / A[0][0]\n",
    "print (x)\n",
    "\n"
   ]
  },
  {
   "cell_type": "code",
   "execution_count": 12,
   "id": "ce82bd5f-8334-48d5-b367-b64e2a53d519",
   "metadata": {},
   "outputs": [
    {
     "name": "stdout",
     "output_type": "stream",
     "text": [
      "Solution:  [-2.5 -3.5 -3. ]\n"
     ]
    }
   ],
   "source": [
    "import numpy as np\n",
    "\n",
    "# Define matrix A\n",
    "A = np.array([[2, -4, 2, 3],\n",
    "              [-5, 1, 4, -3],\n",
    "              [-5, 1, 3, 0]], dtype=float)\n",
    "\n",
    "# Step 1: Eliminate the first element in the second and third rows\n",
    "A[1] = A[1] + (5/2) * A[0]\n",
    "A[2] = A[2] + (5/2) * A[0]\n",
    "\n",
    "# Step 2: Eliminate the second element in the third row\n",
    "A[2] = A[2] - (A[2][1] / A[1][1]) * A[1]\n",
    "\n",
    "# Extract the upper triangular part\n",
    "U = A[:, :-1]  # Coefficients (without the last column)\n",
    "b = A[:, -1]   # The last column (constant terms)\n",
    "\n",
    "# Step 3: Backward substitution to solve Ux = b\n",
    "n = len(b)\n",
    "x = np.zeros(n)\n",
    "\n",
    "# Solve for the last variable x[n-1]\n",
    "x[n-1] = b[n-1] / U[n-1, n-1]\n",
    "\n",
    "# Solve for the remaining variables\n",
    "for i in range(n-2, -1, -1):\n",
    "    x[i] = (b[i] - np.dot(U[i, i+1:], x[i+1:])) / U[i, i]\n",
    "\n",
    "# Print the solution\n",
    "print(\"Solution: \", x)"
   ]
  },
  {
   "cell_type": "code",
   "execution_count": null,
   "id": "c58b5feb-f5b7-4546-88d1-073041c78b91",
   "metadata": {},
   "outputs": [],
   "source": []
  }
 ],
 "metadata": {
  "kernelspec": {
   "display_name": "Python 3 (ipykernel)",
   "language": "python",
   "name": "python3"
  },
  "language_info": {
   "codemirror_mode": {
    "name": "ipython",
    "version": 3
   },
   "file_extension": ".py",
   "mimetype": "text/x-python",
   "name": "python",
   "nbconvert_exporter": "python",
   "pygments_lexer": "ipython3",
   "version": "3.12.7"
  }
 },
 "nbformat": 4,
 "nbformat_minor": 5
}
