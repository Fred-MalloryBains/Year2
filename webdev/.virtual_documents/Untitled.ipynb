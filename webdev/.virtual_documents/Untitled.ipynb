a = [0, 0.11, 0.10, -0.1, -0.11]
b = []
for i in range (0,len(a) -1):
    for j in range (-1,2):
        b.append(a[i] * 2**j)
print(b)




